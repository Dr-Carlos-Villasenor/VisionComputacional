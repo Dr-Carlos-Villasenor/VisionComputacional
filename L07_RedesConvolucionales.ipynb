{
  "nbformat": 4,
  "nbformat_minor": 0,
  "metadata": {
    "colab": {
      "name": "L07_RedesConvolucionales.ipynb",
      "provenance": [],
      "collapsed_sections": [],
      "machine_shape": "hm",
      "include_colab_link": true
    },
    "kernelspec": {
      "name": "python3",
      "display_name": "Python 3"
    },
    "accelerator": "TPU"
  },
  "cells": [
    {
      "cell_type": "markdown",
      "metadata": {
        "id": "view-in-github",
        "colab_type": "text"
      },
      "source": [
        "<a href=\"https://colab.research.google.com/github/Dr-Carlos-Villasenor/VisionComputacional/blob/main/L07_RedesConvolucionales.ipynb\" target=\"_parent\"><img src=\"https://colab.research.google.com/assets/colab-badge.svg\" alt=\"Open In Colab\"/></a>"
      ]
    },
    {
      "cell_type": "markdown",
      "metadata": {
        "id": "WpTU6Fm6VQ-s"
      },
      "source": [
        "# Visión Computacional\n",
        "## Dr. Carlos Villaseñor\n",
        "## Lección 7 - Redes Neuronales convolucionales\n"
      ]
    },
    {
      "cell_type": "markdown",
      "metadata": {
        "id": "ngsxf6Dp-Zh8"
      },
      "source": [
        "Primeramente importamos unos paquetes"
      ]
    },
    {
      "cell_type": "code",
      "metadata": {
        "id": "zVop1APMUX5I"
      },
      "source": [
        "# Importamos numpy y matplotlib\n",
        "import numpy as np\n",
        "import matplotlib.pyplot as plt\n",
        "\n",
        "# Importamos lo necesario para crear la red\n",
        "from tensorflow import keras\n",
        "from keras.datasets import mnist\n",
        "from keras.models import Sequential\n",
        "from keras.layers import Dense, Dropout, Flatten\n",
        "from keras.layers import Conv2D, MaxPooling2D\n",
        "from keras import backend\n",
        "\n",
        "# Importamos unos paquetes de sklearn para comprobar el modelo\n",
        "from sklearn.metrics import classification_report, confusion_matrix"
      ],
      "execution_count": 1,
      "outputs": []
    },
    {
      "cell_type": "markdown",
      "metadata": {
        "id": "MKSs3Oax-0on"
      },
      "source": [
        "Cargamos el dataset de MNIST"
      ]
    },
    {
      "cell_type": "code",
      "metadata": {
        "id": "Po4byVAcVM0R"
      },
      "source": [
        "(xtrain, ytrain), (xtest, ytest) = mnist.load_data()"
      ],
      "execution_count": 10,
      "outputs": []
    },
    {
      "cell_type": "markdown",
      "metadata": {
        "id": "514SgKuu-3qQ"
      },
      "source": [
        "Mostrartemos un ejemplo de manera aleatoria"
      ]
    },
    {
      "cell_type": "code",
      "metadata": {
        "id": "hQVvX4_lWFoe",
        "colab": {
          "base_uri": "https://localhost:8080/",
          "height": 299
        },
        "outputId": "56f9a324-ac41-47d8-eb68-f2c7922a7206"
      },
      "source": [
        "sample = np.random.randint(0,60000)\n",
        "plt.imshow(xtrain[sample], cmap=plt.cm.gray)\n",
        "plt.title('Label: ' + str(ytrain[sample]))"
      ],
      "execution_count": 11,
      "outputs": [
        {
          "output_type": "execute_result",
          "data": {
            "text/plain": [
              "Text(0.5, 1.0, 'Label: 6')"
            ]
          },
          "metadata": {
            "tags": []
          },
          "execution_count": 11
        },
        {
          "output_type": "display_data",
          "data": {
            "image/png": "[encoded data removed]",
            "text/plain": [
              "<Figure size 432x288 with 1 Axes>"
            ]
          },
          "metadata": {
            "tags": [],
            "needs_background": "light"
          }
        }
      ]
    },
    {
      "cell_type": "code",
      "metadata": {
        "id": "c7FSDURcWjjn",
        "colab": {
          "base_uri": "https://localhost:8080/"
        },
        "outputId": "0b14acae-7c29-4d6c-9453-0b7a2d375607"
      },
      "source": [
        "xtrain = xtrain.astype('float32')/255\n",
        "xtest = xtest.astype('float32')/255\n",
        "\n",
        "if backend.image_data_format() == 'channels_first':\n",
        "    xtrain = xtrain.reshape(xtrain.shape[0], 1, 28, 28)\n",
        "    xtest = xtest.reshape(xtest.shape[0], 1, 28, 28)\n",
        "    input_shape = (1, 28, 28)\n",
        "else:\n",
        "    xtrain = xtrain.reshape(xtrain.shape[0], 28, 28, 1)\n",
        "    xtest = xtest.reshape(xtest.shape[0], 28, 28, 1)\n",
        "    input_shape = (28, 28, 1)\n",
        "\n",
        "print(xtrain.shape)\n",
        "print(input_shape)"
      ],
      "execution_count": 12,
      "outputs": [
        {
          "output_type": "stream",
          "text": [
            "(60000, 28, 28, 1)\n",
            "(28, 28, 1)\n"
          ],
          "name": "stdout"
        }
      ]
    },
    {
      "cell_type": "code",
      "metadata": {
        "id": "Bvfkzzq6XTlQ",
        "colab": {
          "base_uri": "https://localhost:8080/"
        },
        "outputId": "fc4a1a2b-13de-4741-d4df-e98a59b8687b"
      },
      "source": [
        "print(ytrain[0])\r\n",
        "ytrain = keras.utils.to_categorical(ytrain, 10)\r\n",
        "print(ytrain[0])"
      ],
      "execution_count": 13,
      "outputs": [
        {
          "output_type": "stream",
          "text": [
            "5\n",
            "[0. 0. 0. 0. 0. 1. 0. 0. 0. 0.]\n"
          ],
          "name": "stdout"
        }
      ]
    },
    {
      "cell_type": "code",
      "metadata": {
        "id": "C2Ef3VekYU2V"
      },
      "source": [
        "def build_model():\n",
        "  model = Sequential()\n",
        "\n",
        "  model.add(Conv2D(32,kernel_size=(3,3),\n",
        "                   activation='relu',\n",
        "                   input_shape=input_shape))\n",
        "  model.add(MaxPooling2D(pool_size=(2,2)))\n",
        "  model.add(Dropout(0.25))\n",
        "\n",
        "  model.add(Conv2D(64, kernel_size=(3,3), activation='relu'))\n",
        "  model.add(MaxPooling2D(pool_size=(2,2)))\n",
        "  model.add(Dropout(0.25))\n",
        "\n",
        "  model.add(Conv2D(128, kernel_size=(3,3), activation='relu'))\n",
        "  model.add(MaxPooling2D(pool_size=(2,2)))\n",
        "  model.add(Dropout(0.25))\n",
        "\n",
        "  model.add(Flatten())\n",
        "  model.add(Dense(128, activation='relu'))\n",
        "  model.add(Dropout(0.5))\n",
        "  model.add(Dense(10, activation='softmax'))\n",
        "\n",
        "  model.compile(loss = keras.losses.categorical_crossentropy,\n",
        "                optimizer = 'adam',\n",
        "                metrics=['accuracy'])\n",
        "  return model"
      ],
      "execution_count": 14,
      "outputs": []
    },
    {
      "cell_type": "code",
      "metadata": {
        "id": "Da6Y4I4fA_Hh",
        "colab": {
          "base_uri": "https://localhost:8080/"
        },
        "outputId": "56761811-e278-4c32-ea80-4ef19c3cbedd"
      },
      "source": [
        "model = build_model()\n",
        "model.summary()"
      ],
      "execution_count": 15,
      "outputs": [
        {
          "output_type": "stream",
          "text": [
            "Model: \"sequential\"\n",
            "_________________________________________________________________\n",
            "Layer (type)                 Output Shape              Param #   \n",
            "=================================================================\n",
            "conv2d (Conv2D)              (None, 26, 26, 32)        320       \n",
            "_________________________________________________________________\n",
            "max_pooling2d (MaxPooling2D) (None, 13, 13, 32)        0         \n",
            "_________________________________________________________________\n",
            "dropout (Dropout)            (None, 13, 13, 32)        0         \n",
            "_________________________________________________________________\n",
            "conv2d_1 (Conv2D)            (None, 11, 11, 64)        18496     \n",
            "_________________________________________________________________\n",
            "max_pooling2d_1 (MaxPooling2 (None, 5, 5, 64)          0         \n",
            "_________________________________________________________________\n",
            "dropout_1 (Dropout)          (None, 5, 5, 64)          0         \n",
            "_________________________________________________________________\n",
            "conv2d_2 (Conv2D)            (None, 3, 3, 128)         73856     \n",
            "_________________________________________________________________\n",
            "max_pooling2d_2 (MaxPooling2 (None, 1, 1, 128)         0         \n",
            "_________________________________________________________________\n",
            "dropout_2 (Dropout)          (None, 1, 1, 128)         0         \n",
            "_________________________________________________________________\n",
            "flatten (Flatten)            (None, 128)               0         \n",
            "_________________________________________________________________\n",
            "dense (Dense)                (None, 128)               16512     \n",
            "_________________________________________________________________\n",
            "dropout_3 (Dropout)          (None, 128)               0         \n",
            "_________________________________________________________________\n",
            "dense_1 (Dense)              (None, 10)                1290      \n",
            "=================================================================\n",
            "Total params: 110,474\n",
            "Trainable params: 110,474\n",
            "Non-trainable params: 0\n",
            "_________________________________________________________________\n"
          ],
          "name": "stdout"
        }
      ]
    },
    {
      "cell_type": "code",
      "metadata": {
        "id": "YKryCRw8aWRX",
        "colab": {
          "base_uri": "https://localhost:8080/"
        },
        "outputId": "eccb4654-4fef-4453-b595-14d6ed92b6c0"
      },
      "source": [
        "model.fit(xtrain, ytrain, batch_size=256, epochs=12, verbose=1,\n",
        "          validation_split=0.17)"
      ],
      "execution_count": 16,
      "outputs": [
        {
          "output_type": "stream",
          "text": [
            "Epoch 1/12\n",
            "195/195 [==============================] - 8s 37ms/step - loss: 1.4339 - accuracy: 0.5035 - val_loss: 0.1542 - val_accuracy: 0.9537\n",
            "Epoch 2/12\n",
            "195/195 [==============================] - 6s 32ms/step - loss: 0.2834 - accuracy: 0.9172 - val_loss: 0.1051 - val_accuracy: 0.9693\n",
            "Epoch 3/12\n",
            "195/195 [==============================] - 6s 31ms/step - loss: 0.1911 - accuracy: 0.9431 - val_loss: 0.0752 - val_accuracy: 0.9760\n",
            "Epoch 4/12\n",
            "195/195 [==============================] - 6s 31ms/step - loss: 0.1450 - accuracy: 0.9569 - val_loss: 0.0679 - val_accuracy: 0.9799\n",
            "Epoch 5/12\n",
            "195/195 [==============================] - 6s 31ms/step - loss: 0.1332 - accuracy: 0.9602 - val_loss: 0.0576 - val_accuracy: 0.9828\n",
            "Epoch 6/12\n",
            "195/195 [==============================] - 6s 32ms/step - loss: 0.1167 - accuracy: 0.9649 - val_loss: 0.0517 - val_accuracy: 0.9842\n",
            "Epoch 7/12\n",
            "195/195 [==============================] - 6s 32ms/step - loss: 0.1032 - accuracy: 0.9695 - val_loss: 0.0508 - val_accuracy: 0.9856\n",
            "Epoch 8/12\n",
            "195/195 [==============================] - 6s 32ms/step - loss: 0.0988 - accuracy: 0.9695 - val_loss: 0.0492 - val_accuracy: 0.9862\n",
            "Epoch 9/12\n",
            "195/195 [==============================] - 6s 33ms/step - loss: 0.0885 - accuracy: 0.9731 - val_loss: 0.0485 - val_accuracy: 0.9872\n",
            "Epoch 10/12\n",
            "195/195 [==============================] - 6s 32ms/step - loss: 0.0800 - accuracy: 0.9766 - val_loss: 0.0417 - val_accuracy: 0.9888\n",
            "Epoch 11/12\n",
            "195/195 [==============================] - 6s 32ms/step - loss: 0.0837 - accuracy: 0.9756 - val_loss: 0.0440 - val_accuracy: 0.9874\n",
            "Epoch 12/12\n",
            "195/195 [==============================] - 6s 32ms/step - loss: 0.0694 - accuracy: 0.9799 - val_loss: 0.0407 - val_accuracy: 0.9886\n"
          ],
          "name": "stdout"
        },
        {
          "output_type": "execute_result",
          "data": {
            "text/plain": [
              "<tensorflow.python.keras.callbacks.History at 0x7fb75c401ad0>"
            ]
          },
          "metadata": {
            "tags": []
          },
          "execution_count": 16
        }
      ]
    },
    {
      "cell_type": "code",
      "metadata": {
        "id": "o9FBcoA77BeR",
        "colab": {
          "base_uri": "https://localhost:8080/"
        },
        "outputId": "d0775ac7-2102-4685-f5b5-f4960655bdd0"
      },
      "source": [
        "ypred=model.predict(xtest)\n",
        "print('Salida de la red:\\n', ypred[0])"
      ],
      "execution_count": 17,
      "outputs": [
        {
          "output_type": "stream",
          "text": [
            "Salida de la red:\n",
            " [5.8314096e-09 2.8115467e-06 3.2742897e-05 7.6358156e-06 4.9760480e-09\n",
            " 2.1728257e-09 1.4999425e-13 9.9995577e-01 1.7101097e-08 8.9764791e-07]\n"
          ],
          "name": "stdout"
        }
      ]
    },
    {
      "cell_type": "code",
      "metadata": {
        "colab": {
          "base_uri": "https://localhost:8080/"
        },
        "id": "sHrRcJsYPe4S",
        "outputId": "4b9d65ea-5b2a-4179-fb55-050d718e0193"
      },
      "source": [
        "ypred = np.argmax(ypred, axis=1)\r\n",
        "print('Predicciones:\\n', ypred)"
      ],
      "execution_count": 18,
      "outputs": [
        {
          "output_type": "stream",
          "text": [
            "Predicciones:\n",
            " [7 2 1 ... 4 5 6]\n"
          ],
          "name": "stdout"
        }
      ]
    },
    {
      "cell_type": "code",
      "metadata": {
        "colab": {
          "base_uri": "https://localhost:8080/"
        },
        "id": "mxoeENuAPghV",
        "outputId": "722285bb-086d-43ae-942b-104bcd277648"
      },
      "source": [
        "print('Reporte de clasificación:\\n', classification_report(ytest, ypred))\r\n",
        "print('Matriz de confusión:\\n', confusion_matrix(ytest, ypred))"
      ],
      "execution_count": 19,
      "outputs": [
        {
          "output_type": "stream",
          "text": [
            "Reporte de clasificación:\n",
            "               precision    recall  f1-score   support\n",
            "\n",
            "           0       0.99      0.99      0.99       980\n",
            "           1       0.99      0.99      0.99      1135\n",
            "           2       0.99      0.98      0.98      1032\n",
            "           3       0.99      0.99      0.99      1010\n",
            "           4       0.99      0.99      0.99       982\n",
            "           5       0.99      0.99      0.99       892\n",
            "           6       0.99      0.98      0.99       958\n",
            "           7       0.97      0.99      0.98      1028\n",
            "           8       1.00      0.98      0.99       974\n",
            "           9       0.99      0.98      0.99      1009\n",
            "\n",
            "    accuracy                           0.99     10000\n",
            "   macro avg       0.99      0.99      0.99     10000\n",
            "weighted avg       0.99      0.99      0.99     10000\n",
            "\n",
            "Matriz de confusión:\n",
            " [[ 970    1    3    1    0    0    1    3    0    1]\n",
            " [   0 1129    1    2    0    0    1    2    0    0]\n",
            " [   2    0 1011    3    0    0    1   15    0    0]\n",
            " [   0    0    0 1002    0    2    0    5    1    0]\n",
            " [   0    0    0    0  976    0    4    0    0    2]\n",
            " [   1    0    0    6    0  883    1    1    0    0]\n",
            " [   2    4    0    0    5    2  943    0    2    0]\n",
            " [   0    2    5    1    0    1    0 1019    0    0]\n",
            " [   0    1    1    2    2    1    1    1  959    6]\n",
            " [   2    0    0    0    4    5    1    4    1  992]]\n"
          ],
          "name": "stdout"
        }
      ]
    },
    {
      "cell_type": "code",
      "metadata": {
        "id": "d8kEVSI9gobE",
        "colab": {
          "base_uri": "https://localhost:8080/",
          "height": 281
        },
        "outputId": "41b70fcc-685a-4ea7-d528-47f8f79a0ab7"
      },
      "source": [
        "sample = np.random.randint(0,10000)\n",
        "x = xtest[sample].reshape(28,28)\n",
        "plt.imshow(x, cmap=plt.cm.gray)\n",
        "plt.title('Prediction: ' + str(ypred[sample]))\n",
        "plt.show()"
      ],
      "execution_count": 24,
      "outputs": [
        {
          "output_type": "display_data",
          "data": {
            "image/png": "[encoded data removed]",
            "text/plain": [
              "<Figure size 432x288 with 1 Axes>"
            ]
          },
          "metadata": {
            "tags": [],
            "needs_background": "light"
          }
        }
      ]
    }
  ]
}